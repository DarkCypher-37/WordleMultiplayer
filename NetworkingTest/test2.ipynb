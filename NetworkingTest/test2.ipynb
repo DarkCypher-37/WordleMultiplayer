{
 "cells": [
  {
   "cell_type": "code",
   "execution_count": 8,
   "metadata": {},
   "outputs": [],
   "source": [
    "import socket"
   ]
  },
  {
   "cell_type": "code",
   "execution_count": 33,
   "metadata": {},
   "outputs": [],
   "source": [
    "client_sock = socket.socket(socket.AF_INET, socket.SOCK_STREAM)\n",
    "client_sock.setblocking(False)\n",
    "errno = client_sock.connect_ex(('localhost', 12345))"
   ]
  },
  {
   "cell_type": "code",
   "execution_count": 7,
   "metadata": {},
   "outputs": [
    {
     "name": "stdout",
     "output_type": "stream",
     "text": [
      "10035 WSAEWOULDBLOCK (ok for non blocking sockets)\n"
     ]
    }
   ],
   "source": [
    "client_sock.sendall(b\"hello world\")\n",
    "if errno == 0:\n",
    "    print(f\"{errno} success\")\n",
    "if errno == 10035:\n",
    "    print(f\"{errno} WSAEWOULDBLOCK (ok for non blocking sockets)\")\n",
    "else:\n",
    "    print(f\"{errno=!r}\")"
   ]
  }
 ],
 "metadata": {
  "interpreter": {
   "hash": "11938c6bc6919ae2720b4d5011047913343b08a43b18698fd82dedb0d4417594"
  },
  "kernelspec": {
   "display_name": "Python 3.9.0 64-bit",
   "language": "python",
   "name": "python3"
  },
  "language_info": {
   "codemirror_mode": {
    "name": "ipython",
    "version": 3
   },
   "file_extension": ".py",
   "mimetype": "text/x-python",
   "name": "python",
   "nbconvert_exporter": "python",
   "pygments_lexer": "ipython3",
   "version": "3.9.0"
  },
  "orig_nbformat": 4
 },
 "nbformat": 4,
 "nbformat_minor": 2
}
