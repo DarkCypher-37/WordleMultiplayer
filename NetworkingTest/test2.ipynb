{
 "cells": [
  {
   "cell_type": "code",
   "execution_count": 12,
   "metadata": {},
   "outputs": [],
   "source": [
    "import socket"
   ]
  },
  {
   "cell_type": "code",
   "execution_count": 23,
   "metadata": {},
   "outputs": [],
   "source": [
    "client_sock = socket.socket(socket.AF_INET, socket.SOCK_STREAM)\n",
    "client_sock.setblocking(False)"
   ]
  },
  {
   "cell_type": "code",
   "execution_count": 24,
   "metadata": {},
   "outputs": [],
   "source": [
    "\n",
    "errno = client_sock.connect_ex(('localhost', 12345))"
   ]
  },
  {
   "cell_type": "code",
   "execution_count": 25,
   "metadata": {},
   "outputs": [
    {
     "name": "stdout",
     "output_type": "stream",
     "text": [
      "10035 WSAEWOULDBLOCK (ok for non blocking sockets)\n"
     ]
    }
   ],
   "source": [
    "client_sock.sendall(b\"hello world\")\n",
    "if errno == 0:\n",
    "    print(f\"{errno} success\")\n",
    "if errno == 10035:\n",
    "    print(f\"{errno} WSAEWOULDBLOCK (ok for non blocking sockets)\")\n",
    "else:\n",
    "    print(f\"{errno=!r}\")"
   ]
  },
  {
   "cell_type": "code",
   "execution_count": null,
   "metadata": {},
   "outputs": [],
   "source": []
  }
 ],
 "metadata": {
  "interpreter": {
   "hash": "6d1e45cadc3597bb8b6600530fbdf8c3eefe919a24ef54d9d32b318795b772e0"
  },
  "kernelspec": {
   "display_name": "Python 3.8.0 32-bit",
   "language": "python",
   "name": "python3"
  },
  "language_info": {
   "codemirror_mode": {
    "name": "ipython",
    "version": 3
   },
   "file_extension": ".py",
   "mimetype": "text/x-python",
   "name": "python",
   "nbconvert_exporter": "python",
   "pygments_lexer": "ipython3",
   "version": "3.8.0"
  },
  "orig_nbformat": 4
 },
 "nbformat": 4,
 "nbformat_minor": 2
}
