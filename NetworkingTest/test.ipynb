{
 "cells": [
  {
   "cell_type": "code",
   "execution_count": 2,
   "metadata": {},
   "outputs": [],
   "source": [
    "import socket\n",
    "import select\n",
    "import threading\n",
    "import time"
   ]
  },
  {
   "cell_type": "code",
   "execution_count": 19,
   "metadata": {},
   "outputs": [
    {
     "name": "stdout",
     "output_type": "stream",
     "text": [
      "closed ...\n"
     ]
    }
   ],
   "source": [
    "server_sock = socket.socket(socket.AF_INET, socket.SOCK_STREAM)\n",
    "server_sock.bind(('', 12345))\n",
    "server_sock.listen()\n",
    "conn, addr = server_sock.accept()\n",
    "# conn.shutdown(socket.SHUT_RDWR)\n",
    "conn.close()\n",
    "# server_sock.shutdown(socket.SHUT_RDWR)\n",
    "server_sock.close()\n",
    "print(\"closed ...\")\n",
    "# print(conn.recv(1024))"
   ]
  },
  {
   "cell_type": "code",
   "execution_count": 3,
   "metadata": {},
   "outputs": [
    {
     "name": "stdout",
     "output_type": "stream",
     "text": [
      "b'hello world'\n"
     ]
    }
   ],
   "source": [
    "server_sock = socket.socket(socket.AF_INET, socket.SOCK_STREAM)\n",
    "server_sock.setblocking(False)\n",
    "server_sock.bind(('', 12345))\n",
    "server_sock.listen()\n",
    "\n",
    "r, w, e = [server_sock], [], []\n",
    "r,w,e = select.select(r,w,e)\n",
    "\n",
    "conn, addr = r[0].accept()\n",
    "print(conn.recv(1024))"
   ]
  },
  {
   "cell_type": "code",
   "execution_count": 9,
   "metadata": {},
   "outputs": [
    {
     "name": "stdout",
     "output_type": "stream",
     "text": [
      " ll 3 c\n",
      "aaa lol  ll 3 c None\n"
     ]
    }
   ],
   "source": [
    "def a(a, b, c, d, e=None):\n",
    "    print(\"aaa\", a, b, c, d, e)\n",
    "\n",
    "def b(f, *args):\n",
    "    print(\" \".join([i for i in map(str, args)]))\n",
    "    f(\"lol\", *args)\n",
    "\n",
    "b(a, \" ll\", 3, \"c\")"
   ]
  }
 ],
 "metadata": {
  "interpreter": {
   "hash": "11938c6bc6919ae2720b4d5011047913343b08a43b18698fd82dedb0d4417594"
  },
  "kernelspec": {
   "display_name": "Python 3.9.0 64-bit",
   "language": "python",
   "name": "python3"
  },
  "language_info": {
   "codemirror_mode": {
    "name": "ipython",
    "version": 3
   },
   "file_extension": ".py",
   "mimetype": "text/x-python",
   "name": "python",
   "nbconvert_exporter": "python",
   "pygments_lexer": "ipython3",
   "version": "3.9.0"
  },
  "orig_nbformat": 4
 },
 "nbformat": 4,
 "nbformat_minor": 2
}
