{
 "cells": [
  {
   "cell_type": "code",
   "execution_count": 3,
   "metadata": {},
   "outputs": [],
   "source": [
    "import socket\n",
    "import select"
   ]
  },
  {
   "cell_type": "code",
   "execution_count": 8,
   "metadata": {},
   "outputs": [
    {
     "name": "stdout",
     "output_type": "stream",
     "text": [
      "b'hello world'\n"
     ]
    }
   ],
   "source": [
    "server_sock = socket.socket(socket.AF_INET, socket.SOCK_STREAM)\n",
    "server_sock.bind(('', 12345))\n",
    "server_sock.listen()\n",
    "conn, addr = server_sock.accept()\n",
    "print(conn.recv(1024))"
   ]
  },
  {
   "cell_type": "code",
   "execution_count": 3,
   "metadata": {},
   "outputs": [
    {
     "name": "stdout",
     "output_type": "stream",
     "text": [
      "b'hello world'\n"
     ]
    }
   ],
   "source": [
    "server_sock = socket.socket(socket.AF_INET, socket.SOCK_STREAM)\n",
    "server_sock.setblocking(False)\n",
    "server_sock.bind(('', 12345))\n",
    "server_sock.listen()\n",
    "\n",
    "r, w, e = [server_sock], [], []\n",
    "r,w,e = select.select(r,w,e)\n",
    "\n",
    "conn, addr = r[0].accept()\n",
    "print(conn.recv(1024))"
   ]
  }
 ],
 "metadata": {
  "interpreter": {
   "hash": "6d1e45cadc3597bb8b6600530fbdf8c3eefe919a24ef54d9d32b318795b772e0"
  },
  "kernelspec": {
   "display_name": "Python 3.8.0 32-bit",
   "language": "python",
   "name": "python3"
  },
  "language_info": {
   "codemirror_mode": {
    "name": "ipython",
    "version": 3
   },
   "file_extension": ".py",
   "mimetype": "text/x-python",
   "name": "python",
   "nbconvert_exporter": "python",
   "pygments_lexer": "ipython3",
   "version": "3.8.0"
  },
  "orig_nbformat": 4
 },
 "nbformat": 4,
 "nbformat_minor": 2
}
